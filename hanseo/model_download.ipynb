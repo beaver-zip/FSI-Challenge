{
 "cells": [
  {
   "cell_type": "code",
   "execution_count": null,
   "id": "78da0607",
   "metadata": {},
   "outputs": [],
   "source": [
    "import os\n",
    "from huggingface_hub import snapshot_download, notebook_login\n",
    "from getpass import getpass\n",
    "\n",
    "notebook_login()"
   ]
  },
  {
   "cell_type": "code",
   "execution_count": null,
   "id": "d648aa40",
   "metadata": {},
   "outputs": [],
   "source": [
    "model_id = \"K-intelligence/Midm-2.0-Base-Instruct\"\n",
    "local_model_dir = \"./model\"\n",
    "\n",
    "os.makedirs(local_model_dir, exist_ok=True)\n",
    "\n",
    "snapshot_download(\n",
    "    repo_id=model_id,\n",
    "    local_dir=local_model_dir,\n",
    "    local_dir_use_symlinks=False,\n",
    "    resume_download=True\n",
    ")"
   ]
  },
  {
   "cell_type": "code",
   "execution_count": null,
   "id": "ec85f19d",
   "metadata": {},
   "outputs": [],
   "source": [
    "# GPU 잘 설정됐는지 확인하기\n",
    "import torch\n",
    "\n",
    "# 1. PyTorch에서 CUDA 사용 가능 여부 확인\n",
    "print(f\"PyTorch CUDA available: {torch.cuda.is_available()}\")\n",
    "\n",
    "# 2. PyTorch가 빌드될 때 사용된 CUDA 버전 확인\n",
    "print(f\"PyTorch built with CUDA version: {torch.version.cuda}\")\n",
    "\n",
    "# 3. 현재 시스템에서 인식되는 GPU 개수 확인\n",
    "print(f\"CUDA device count: {torch.cuda.device_count()}\")\n",
    "\n",
    "# 4. 첫 번째 GPU의 이름 확인\n",
    "if torch.cuda.is_available():\n",
    "    print(f\"Device name: {torch.cuda.get_device_name(0)}\")"
   ]
  }
 ],
 "metadata": {
  "kernelspec": {
   "display_name": "venv (3.10.12)",
   "language": "python",
   "name": "python3"
  },
  "language_info": {
   "codemirror_mode": {
    "name": "ipython",
    "version": 3
   },
   "file_extension": ".py",
   "mimetype": "text/x-python",
   "name": "python",
   "nbconvert_exporter": "python",
   "pygments_lexer": "ipython3",
   "version": "3.10.12"
  }
 },
 "nbformat": 4,
 "nbformat_minor": 5
}
